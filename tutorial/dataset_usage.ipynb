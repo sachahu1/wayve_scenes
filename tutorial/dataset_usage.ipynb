{
 "cells": [
  {
   "cell_type": "markdown",
   "metadata": {},
   "source": [
    "# WayveScenes101 Dataset \n",
    "\n",
    "In this notebook, we show how to access and download the dataset, and visualise the scenes."
   ]
  },
  {
   "cell_type": "markdown",
   "metadata": {},
   "source": [
    "## Dataset Unpacking\n",
    "\n",
    "In the following, we are assuming that you have downloaded some or all of the scenes in our WayveScenes101 dataset (instructions in `README.md`) to a directory of your choice.\n",
    "\n",
    "For each scene, we provide a zipfile, containing all the scene data, including images, masks, and camera data.\n",
    "\n",
    "To unpack all scenes, please run the following command:\n",
    "\n",
    "```bash\n",
    "export DATA_ROOT=/path/to/wayve_scenes_101/\n",
    "unzip \"$DATA_ROOT/*.zip\"\n",
    "```\n",
    "\n",
    "Now you may delete all downloaded zipfiles."
   ]
  },
  {
   "cell_type": "markdown",
   "metadata": {},
   "source": [
    "\n",
    "\n",
    "Once the unpacking is done, you should see the following directory structure\n",
    "\n",
    "\n",
    "```bash\n",
    "wayve_scenes_101\n",
    "├── scene_001\n",
    "│   ├── colmap_sparse          # colmap files\n",
    "│   │   └── rig\n",
    "│   │       ├── cameras.bin\n",
    "│   │       ├── images.bin\n",
    "│   │       └── points3D.bin\n",
    "│   ├── images                 # All camera images for the given scene\n",
    "│   │   ├── front-forward      # front-forward camera images\n",
    "│   │   ├── left-backward      # ...\n",
    "│   │   ├── left-forward   \n",
    "│   │   ├── right-backward \n",
    "│   │   └── right-forward  \n",
    "│   └── masks                  # All camera image masks marking blurred regions\n",
    "│       ├── front-forward      # front-forward masks\n",
    "│       ├── left-backward      # ...\n",
    "│       ├── left-forward \n",
    "│       ├── right-backward  \n",
    "│       └── right-forward \n",
    "├── scene_002\n",
    "│   ...\n",
    "```"
   ]
  },
  {
   "cell_type": "markdown",
   "metadata": {},
   "source": [
    "## Dataset utilites `wayve_scenes`\n",
    "\n",
    "For instructions on how to install the dataset utilities, please refer to the `README.md` file in the repository root directory. "
   ]
  },
  {
   "cell_type": "markdown",
   "metadata": {},
   "source": [
    "### Visualising a scene in the WayveScenes Viewer\n",
    "\n",
    "You can run the scene viewer for a specific scene using the following command:\n",
    "\n",
    "```bash\n",
    "python src/wayve_scenes/scene_viewer.py --dataset_root <absolute/path/to/wayve_scenes_101> --scene_name <scene_XYZ>\n",
    "```\n",
    "\n",
    "> Note: The `--dataset_root` argument should be given as an absolute path.\n",
    "\n",
    "\n",
    "A browser window with the WayveScenes Viewer should open at `http://127.0.0.1:8050/`. The top panel visualises the 5 camera images. The visualised timestamp can be selected with the timestamp slider. The bottom panel visualises a 3D view of the scene with COLMAP points and the camera poses.\n",
    "\n",
    "> Note: If the time-slider becomes unresponsive, please reload the browser window.\n",
    "\n",
    "\n",
    "#### Remote server visualisation\n",
    "\n",
    "If you're working on a remote server and want to visualise the scenes locally on your machine, please open an SSH tunnel to your remote machine\n",
    "\n",
    "```bash\n",
    "ssh -L LOCAL_PORT:localhost:REMOTE_PORT user@REMOTE_SERVER_IP\n",
    "```\n",
    "\n",
    "and enter `http://localhost:LOCAL_PORT` in your web browser."
   ]
  },
  {
   "cell_type": "markdown",
   "metadata": {},
   "source": [
    "## Rendering videos\n",
    "\n",
    "To get an overview of a scene, it can be useful to render a video of all camera images for a given scene."
   ]
  },
  {
   "cell_type": "code",
   "execution_count": null,
   "metadata": {},
   "outputs": [],
   "source": [
    "from wayve_scenes.scene import WayveScene\n",
    "from pathlib import Path \n",
    "import os \n",
    "\n",
    "# Create scene object\n",
    "wayve_scene = WayveScene()\n",
    "\n",
    "# Load a scene from disk\n",
    "SCENE_DIR = \"/path/to/wayve_scenes_101/scene_001\"\n",
    "COLMAP_PATH = os.path.join(SCENE_DIR, \"colmap_sparse\", \"rig\")\n",
    "\n",
    "wayve_scene.read_colmap_data(Path(COLMAP_PATH), load_points_camera=False)\n",
    "\n",
    "video_file = os.path.join(SCENE_DIR, \"video_cameras.mp4\")\n",
    "wayve_scene.render_cameras_video(video_file)"
   ]
  },
  {
   "cell_type": "markdown",
   "metadata": {},
   "source": [
    "## Metric Camera Distances\n",
    "\n",
    "In the file `data/baselines.json`, we provide the relative metric distances of all cameras to the `front-forward` camera. This allows for transforming the scene-specific COLMAP coordinate frames to a metric frame. We have separate values for our US and uk scenes. \n",
    "The file can be read as follows:"
   ]
  },
  {
   "cell_type": "code",
   "execution_count": null,
   "metadata": {},
   "outputs": [],
   "source": [
    "import json \n",
    "import os\n",
    "\n",
    "# Load the camera poses\n",
    "with open(os.path.join(\"data/baselines.json\"), 'r') as f:\n",
    "    baselines = json.load(f)\n",
    "    \n",
    "baselines_us = baselines[\"us\"]\n",
    "baselines_uk = baselines[\"uk\"]"
   ]
  }
 ],
 "metadata": {
  "language_info": {
   "name": "python"
  }
 },
 "nbformat": 4,
 "nbformat_minor": 2
}
