{
 "cells": [
  {
   "cell_type": "markdown",
   "metadata": {},
   "source": [
    "# Model Training with NerfStudio\n",
    "\n",
    "In this notebook we will showcase how to train a nerfstudio model one of our WayveScenes101 dataset scenes."
   ]
  },
  {
   "cell_type": "markdown",
   "metadata": {},
   "source": [
    "# Installation\n",
    "\n",
    "If not already installed, please install nerfstudio \n",
    "\n",
    "```bash\n",
    "pip install nerfstudio\n",
    "```\n"
   ]
  },
  {
   "cell_type": "markdown",
   "metadata": {},
   "source": [
    "## COLMAP to NerfStudio \n",
    "\n",
    "First, we need to pre-process the COLMAP directory to generate the required files for nerfstudio model training.\n",
    "\n",
    "The `colmap_to_json` function below accepts a `use_masks` binary flag. You can specify if you would like to mask the images during training according to our masks specifying blurred regions (license plates and faces) and image regions where the ego-vehicle is visible."
   ]
  },
  {
   "cell_type": "code",
   "execution_count": null,
   "metadata": {},
   "outputs": [],
   "source": [
    "from pathlib import Path\n",
    "\n",
    "from wayve_scenes.utils import colmap_utils\n",
    "\n",
    "\n",
    "dataset_root = \"/path/to/wayve_scenes_101\"\n",
    "scene_name = \"scene_096\"\n",
    "\n",
    "recon_dir = Path(f\"{dataset_root}/{scene_name}/colmap_sparse/rig/\")\n",
    "output_dir = Path(f\"{dataset_root}/{scene_name}/\")\n",
    "\n",
    "colmap_utils.colmap_to_json(recon_dir=recon_dir, output_dir=output_dir, use_masks=True)"
   ]
  },
  {
   "cell_type": "markdown",
   "metadata": {},
   "source": [
    "# NerfStudio model training\n",
    "\n",
    "Now, we may use nerfstudio's `ns-train` to train a Nerfacto model on a given scene from the dataset.\n",
    "\n",
    "> When reporting metrics for the test split of the dataset (the `front-forward` camera), please note that you must **NOT** train your model with the `front-forward` camera images. The below code uses all available cameras and is intended for demonstration purposes only."
   ]
  },
  {
   "cell_type": "markdown",
   "metadata": {},
   "source": [
    "\n",
    "```bash\n",
    "export DATASET_ROOT=/path/to/wayve_scenes_101/\n",
    "export SCENE_NAME=scene_096\n",
    "\n",
    "export SCENE_PATH=$DATASET_ROOT/$SCENE_NAME\n",
    "\n",
    "ns-train nerfacto --data $SCENE_PATH --pipeline.model.camera-optimizer.mode off \n",
    "```"
   ]
  }
 ],
 "metadata": {
  "language_info": {
   "name": "python"
  }
 },
 "nbformat": 4,
 "nbformat_minor": 2
}
